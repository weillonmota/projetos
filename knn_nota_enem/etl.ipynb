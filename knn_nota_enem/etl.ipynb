{
 "cells": [
  {
   "cell_type": "markdown",
   "id": "d5b2765d",
   "metadata": {},
   "source": [
    "# 🤖 Prevendo Notas do ENEM com Machine Learning\n",
    "\n",
    "Bem-vindo! Este projeto é um guia prático que demonstra como usar dados para treinar um modelo de Machine Learning capaz de prever as notas de um estudante no ENEM. Utilizamos uma técnica chamada **k-Nearest Neighbors (k-NN)**, ou \"k-Vizinhos Mais Próximos\", para realizar essa tarefa.\n",
    "\n",
    "O objetivo é criar um material didático, explicando cada passo do processo de forma clara e simples, desde a coleta dos dados brutos até o salvamento de um modelo pronto para uso."
   ]
  },
  {
   "cell_type": "markdown",
   "id": "8b2818ea",
   "metadata": {},
   "source": [
    "## 📂 Estrutura do Projeto\n",
    "\n",
    "O código está organizado em um notebook Jupyter (`etl.ipynb`) e dividido em quatro etapas principais:\n",
    "\n",
    "1.  **Configuração**: Onde preparamos nosso ambiente e definimos as regras do jogo.\n",
    "2.  **ETL (Extração, Transformação e Carga)**: A fase de \"faxina\", onde limpamos e organizamos os dados.\n",
    "3.  **Otimização do k-NN**: O coração do projeto, onde ensinamos o modelo a aprender com os dados.\n",
    "4.  **Treinamento Final**: Onde consolidamos o aprendizado e salvamos nosso modelo inteligente."
   ]
  },
  {
   "cell_type": "markdown",
   "id": "edca3dea",
   "metadata": {},
   "source": [
    "## 🤔 Como o Programa Funciona? Um Guia Passo a Passo\n"
   ]
  },
  {
   "cell_type": "markdown",
   "id": "7fa4a679",
   "metadata": {},
   "source": [
    "### Etapa 1: Configuração e Constantes"
   ]
  },
  {
   "cell_type": "code",
   "execution_count": 6,
   "id": "3c907999",
   "metadata": {},
   "outputs": [
    {
     "name": "stdout",
     "output_type": "stream",
     "text": [
      "✅ Módulo de Configuração carregado com sucesso!\n"
     ]
    }
   ],
   "source": [
    "# Importação de bibliotecas essenciais\n",
    "import pandas as pd\n",
    "import joblib\n",
    "import json\n",
    "import os\n",
    "from sklearn.model_selection import train_test_split\n",
    "from sklearn.neighbors import KNeighborsRegressor\n",
    "from sklearn.metrics import mean_absolute_error\n",
    "\n",
    "# --- ARQUIVOS E CAMINHOS ---\n",
    "ARQUIVOS_ENEM = ['MICRODADOS_ENEM_2021.csv', 'MICRODADOS_ENEM_2022.csv', 'MICRODADOS_ENEM_2023.csv']\n",
    "ARQUIVO_DADOS_CEARA = 'dados_ceara.csv'\n",
    "ARQUIVO_MODELO = 'modelo_knn.joblib'\n",
    "ARQUIVO_COLUNAS = 'colunas_modelo.json'\n",
    "\n",
    "# --- COLUNAS DO DATASET ---\n",
    "# Colunas que serão o alvo da nossa previsão (target)\n",
    "COLUNAS_ALVO = ['NU_NOTA_CN', 'NU_NOTA_CH', 'NU_NOTA_LC', 'NU_NOTA_MT', 'NU_NOTA_REDACAO']\n",
    "# Colunas que usaremos para fazer a previsão (features)\n",
    "COLUNAS_FEATURES = ['Q006', 'Q002', 'TP_ESCOLA', 'TP_COR_RACA', 'SG_UF_ESC']\n",
    "# Lista completa de colunas a serem lidas dos arquivos originais\n",
    "COLUNAS_DESEJADAS = ['NU_ANO'] + COLUNAS_ALVO + COLUNAS_FEATURES\n",
    "\n",
    "# --- PARÂMETROS DO MODELO ---\n",
    "ESTADO_ALEATORIO = 42 # Garante que a divisão dos dados seja sempre a mesma\n",
    "TAMANHO_TESTE = 0.2  # Define que 20% dos dados serão usados para teste\n",
    "\n",
    "print(\"✅ Módulo de Configuração carregado com sucesso!\")"
   ]
  },
  {
   "cell_type": "markdown",
   "id": "2c8bf0eb",
   "metadata": {},
   "source": [
    "Antes de começar qualquer projeto de programação, é uma boa prática organizar as ferramentas. Nesta primeira célula do código, nós:\n",
    "- **Importamos as bibliotecas**: Ferramentas como `pandas` (para mexer com tabelas) e `scikit-learn` (para Machine Learning).\n",
    "- **Centralizamos as informações**: Definimos nomes de arquivos e colunas em um único lugar. Isso é como ter uma \"lista de compras\" antes de ir ao mercado; se precisarmos mudar algo, sabemos exatamente onde olhar."
   ]
  },
  {
   "cell_type": "markdown",
   "id": "fa88d58c",
   "metadata": {},
   "source": [
    "### Etapa 2: A Faxina dos Dados (ETL)"
   ]
  },
  {
   "cell_type": "code",
   "execution_count": 7,
   "id": "c6ed305e",
   "metadata": {},
   "outputs": [
    {
     "name": "stdout",
     "output_type": "stream",
     "text": [
      "\n",
      "--- 🚀 Iniciando processo de ETL para o estado: CE ---\n",
      "Processando: MICRODADOS_ENEM_2021.csv...\n",
      "-> 58503 linhas válidas encontradas.\n",
      "Processando: MICRODADOS_ENEM_2022.csv...\n",
      "-> 71340 linhas válidas encontradas.\n",
      "Processando: MICRODADOS_ENEM_2023.csv...\n",
      "-> 74319 linhas válidas encontradas.\n",
      "\n",
      "✅ ETL Concluído. DataFrame final criado com 204162 linhas.\n",
      "💾 Dados limpos salvos em 'dados_ceara.csv'.\n"
     ]
    }
   ],
   "source": [
    "def executar_etl(lista_arquivos: list, colunas: list, estado_filtro: str = 'CE') -> pd.DataFrame | None:\n",
    "    \"\"\"\n",
    "    Lê, limpa, filtra e combina múltiplos arquivos CSV do ENEM.\n",
    "    - Extração: Lê apenas as colunas desejadas para otimizar o uso de memória.\n",
    "    - Transformação: Remove linhas com dados faltantes e filtra pelo estado.\n",
    "    - Carga: Consolida os dados de todos os arquivos em um único DataFrame.\n",
    "    \"\"\"\n",
    "    print(f\"\\n--- 🚀 Iniciando processo de ETL para o estado: {estado_filtro} ---\")\n",
    "    dataframes = []\n",
    "\n",
    "    for arquivo in lista_arquivos:\n",
    "        if not os.path.exists(arquivo):\n",
    "            print(f\"⚠️ AVISO: Arquivo '{arquivo}' não encontrado. Pulando...\")\n",
    "            continue\n",
    "        try:\n",
    "            print(f\"Processando: {arquivo}...\")\n",
    "            df = pd.read_csv(arquivo, sep=';', encoding='latin-1', usecols=colunas)\n",
    "            df.dropna(inplace=True)\n",
    "            df_estado = df[df['SG_UF_ESC'] == estado_filtro]\n",
    "            if not df_estado.empty:\n",
    "                dataframes.append(df_estado)\n",
    "                print(f\"-> {len(df_estado)} linhas válidas encontradas.\")\n",
    "            else:\n",
    "                print(\"-> Nenhuma linha válida para o Ceará neste arquivo.\")\n",
    "        except Exception as e:\n",
    "            print(f\"❌ ERRO inesperado ao processar '{arquivo}': {e}\")\n",
    "\n",
    "    if not dataframes:\n",
    "        print(\"\\n❌ ETL falhou. Nenhum DataFrame foi processado.\")\n",
    "        return None\n",
    "\n",
    "    df_final = pd.concat(dataframes, ignore_index=True)\n",
    "    print(f\"\\n✅ ETL Concluído. DataFrame final criado com {len(df_final)} linhas.\")\n",
    "    df_final.to_csv(ARQUIVO_DADOS_CEARA, index=False)\n",
    "    print(f\"💾 Dados limpos salvos em '{ARQUIVO_DADOS_CEARA}'.\")\n",
    "    return df_final\n",
    "\n",
    "# Executa a função\n",
    "dados_limpos_ceara = executar_etl(lista_arquivos=ARQUIVOS_ENEM, colunas=COLUNAS_DESEJADAS)"
   ]
  },
  {
   "cell_type": "markdown",
   "id": "8048430b",
   "metadata": {},
   "source": [
    "Os dados brutos do ENEM são gigantescos e um pouco bagunçados. Para que nosso modelo consiga aprender algo útil, precisamos primeiro organizar a casa. O processo de ETL faz exatamente isso:\n",
    "\n",
    "1.  **Extrair**: Lemos os arquivos CSV do ENEM (`MICRODADOS_ENEM_2021.csv`, etc.). Para não sobrecarregar a memória do computador, pegamos apenas as colunas que nos interessam.\n",
    "2.  **Transformar**: Aqui acontece a mágica da limpeza. Nós:\n",
    "    - Removemos todas as linhas que têm alguma informação faltando (como uma nota em branco).\n",
    "    - Filtramos os dados para manter apenas os registros de estudantes do Ceará (`CE`).\n",
    "3.  **Carregar**: Juntamos todos os dados limpos de diferentes anos em uma única tabela e a salvamos como `dados_ceara.csv`. Ter esse arquivo limpo economiza muito tempo, pois não precisamos repetir essa faxina toda vez que rodamos o projeto."
   ]
  },
  {
   "cell_type": "markdown",
   "id": "48a3069e",
   "metadata": {},
   "source": [
    "### Etapa 3: Ensinando o Computador a \"Adivinhar\" com k-NN\n"
   ]
  },
  {
   "cell_type": "code",
   "execution_count": 14,
   "id": "b0b36d67",
   "metadata": {},
   "outputs": [
    {
     "name": "stdout",
     "output_type": "stream",
     "text": [
      "\n",
      "--- 🧠 Buscando o melhor valor de 'k' para o k-NN ---\n",
      "Iniciando os testes (esta etapa pode demorar)...\n",
      "   - Processando k = 3...\n",
      "     -> Teste k=3 concluído! MAE Geral: 95.0777\n",
      "   - Processando k = 5...\n",
      "     -> Teste k=5 concluído! MAE Geral: 96.2481\n",
      "   - Processando k = 7...\n",
      "     -> Teste k=7 concluído! MAE Geral: 92.9195\n",
      "   - Processando k = 9...\n",
      "     -> Teste k=9 concluído! MAE Geral: 90.2997\n",
      "   - Processando k = 11...\n",
      "     -> Teste k=11 concluído! MAE Geral: 89.7812\n",
      "   - Processando k = 13...\n",
      "     -> Teste k=13 concluído! MAE Geral: 88.5116\n",
      "   - Processando k = 15...\n",
      "     -> Teste k=15 concluído! MAE Geral: 88.0135\n",
      "   - Processando k = 17...\n",
      "     -> Teste k=17 concluído! MAE Geral: 88.0067\n",
      "   - Processando k = 19...\n",
      "     -> Teste k=19 concluído! MAE Geral: 87.9317\n",
      "\n",
      "   -> Todos os testes foram concluídos.\n",
      "\n",
      "✅ Otimização Finalizada. Melhor valor encontrado: k = 19\n"
     ]
    }
   ],
   "source": [
    "from sklearn.model_selection import train_test_split\n",
    "from sklearn.neighbors import KNeighborsRegressor\n",
    "from sklearn.metrics import mean_absolute_error\n",
    "import time # Usaremos para dar uma sensação de progresso\n",
    "\n",
    "def encontrar_melhor_k(df: pd.DataFrame, valores_k: list) -> int:\n",
    "    \"\"\"\n",
    "    Testa diferentes valores de 'k' para o k-NN e retorna o que minimiza o erro,\n",
    "    com prints detalhados do progresso.\n",
    "    \"\"\"\n",
    "    print(\"\\n--- 🧠 Buscando o melhor valor de 'k' para o k-NN ---\")\n",
    "    if df is None:\n",
    "        print(\"❌ DataFrame de entrada é inválido. Abortando a otimização.\")\n",
    "        return 0\n",
    "\n",
    "    # 1. Preparando a busca pelo melhor valor de 'k'\")\n",
    "    \n",
    "    X = pd.get_dummies(df[COLUNAS_FEATURES], drop_first=True)\n",
    "    y = df[COLUNAS_ALVO]\n",
    "    X_train, X_test, y_train, y_test = train_test_split(\n",
    "        X, y, test_size=TAMANHO_TESTE, random_state=ESTADO_ALEATORIO\n",
    "    )\n",
    "    \n",
    "    print(\"Iniciando os testes (esta etapa pode demorar)...\")\n",
    "    resultados_mae = {}\n",
    "    for k in valores_k:\n",
    "        # Print que mostra o início do teste para um 'k' específico\n",
    "        print(f\"   - Processando k = {k}...\")\n",
    "        \n",
    "        # Estas são as linhas que demoram:\n",
    "        modelo = KNeighborsRegressor(n_neighbors=k, n_jobs=-1)\n",
    "        modelo.fit(X_train, y_train)\n",
    "        y_pred = modelo.predict(X_test)\n",
    "        \n",
    "        # Cálculo do resultado\n",
    "        mae_geral = mean_absolute_error(y_test, y_pred)\n",
    "        resultados_mae[k] = mae_geral\n",
    "        \n",
    "        # Print que mostra o resultado parcial ao final de cada teste\n",
    "        print(f\"     -> Teste k={k} concluído! MAE Geral: {mae_geral:.4f}\")\n",
    "\n",
    "    # Prints finais\n",
    "    melhor_k = min(resultados_mae, key=resultados_mae.get)\n",
    "    print(\"\\n   -> Todos os testes foram concluídos.\")\n",
    "    print(f\"\\n✅ Otimização Finalizada. Melhor valor encontrado: k = {melhor_k}\")\n",
    "    return melhor_k\n",
    "\n",
    "# --- Execução da Função ---\n",
    "# Garante que os dados existem antes de rodar\n",
    "if 'dados_limpos_ceara' in locals():\n",
    "    valores_k_para_testar = [3, 5, 7, 9, 11, 13, 15, 17, 19]\n",
    "    melhor_k = encontrar_melhor_k(dados_limpos_ceara, valores_k_para_testar)\n",
    "else:\n",
    "    print(\"❌ ERRO: A variável 'dados_limpos_ceara' não foi encontrada. Execute a célula de ETL primeiro.\")"
   ]
  },
  {
   "cell_type": "markdown",
   "id": "aad32214",
   "metadata": {},
   "source": [
    "Agora chegamos à parte mais interessante: como o modelo de Machine Learning realmente funciona? Usamos o algoritmo **k-Nearest Neighbors (k-NN)**, que é surpreendentemente intuitivo.\n",
    "\n",
    "#### Uma Analogia Simples para Entender o k-NN\n",
    "\n",
    "Imagine que você quer prever o preço de uma casa, mas não tem ideia de como fazer isso. Uma abordagem simples seria:\n",
    "1.  Encontrar as **3 casas mais parecidas** com a sua na mesma vizinhança (com tamanho, número de quartos e idade similares).\n",
    "2.  Perguntar o preço de cada uma dessas 3 casas.\n",
    "3.  Calcular a **média de preço** dessas 3 casas.\n",
    "4.  Pronto! Essa média é a sua \"previsão\" para o preço da sua casa.\n",
    "\n",
    "O k-NN faz exatamente isso, mas para prever as notas do ENEM. Ele não prevê o preço de uma casa, mas sim as notas de um aluno (`NU_NOTA_CN`, `NU_NOTA_MT`, etc.).\n",
    "\n",
    "#### Como o k-NN Foi Implementado Neste Projeto?\n",
    "\n",
    "1.  **Definindo os \"Vizinhos\" (as `COLUNAS_FEATURES`)**: Para o nosso modelo, um \"vizinho\" é um outro estudante com um perfil socioeconômico parecido. Nós dizemos ao algoritmo para comparar os alunos com base em características como:\n",
    "    - `Q006`: A renda familiar.\n",
    "    - `Q002`: A escolaridade da mãe.\n",
    "    - `TP_ESCOLA`: O tipo de escola (pública ou privada).\n",
    "\n",
    "2.  **O \"k\" da Questão (A Otimização do Hiperparâmetro)**: Na nossa analogia, usamos 3 casas. Mas por que 3? Por que não 5, 10 ou 20? Esse número é o `k`, e escolher o `k` certo é fundamental.\n",
    "    - Se `k` for **muito pequeno** (ex: `k=1`), o modelo fica \"superespecialista\". Ele baseia a previsão em um único vizinho, o que pode ser muito instável e levar a erros.\n",
    "    - Se `k` for **muito grande** (ex: `k=100`), o modelo fica \"genérico demais\". Ele considera tantos vizinhos que a previsão se torna uma média muito geral, perdendo as particularidades.\n",
    "\n",
    "    A célula **\"Otimização do Hiperparâmetro 'k'\"** automatiza essa busca. Ela testa vários valores para `k` (3, 5, 7, 9, etc.) e, para cada um, calcula o **Erro Médio Absoluto (MAE)**. O MAE nos diz, em média, quão longe as previsões do modelo ficaram das notas reais. O valor de `k` que gerar o menor erro é o campeão!\n",
    "\n",
    "3.  **O Modelo em Ação (`KNeighborsRegressor`)**: A ferramenta que usamos para isso é o `KNeighborsRegressor` do `scikit-learn`. O nome \"Regressor\" indica que ele serve para prever números contínuos (como uma nota de 0 a 1000), e não para classificar em categorias (como \"aprovado\" ou \"reprovado\")."
   ]
  },
  {
   "cell_type": "markdown",
   "id": "28190604",
   "metadata": {},
   "source": [
    "### Etapa 4: Treinamento e Salvamento do Modelo Final\n"
   ]
  },
  {
   "cell_type": "code",
   "execution_count": null,
   "id": "1c326f43",
   "metadata": {},
   "outputs": [
    {
     "name": "stdout",
     "output_type": "stream",
     "text": [
      "\n",
      "--- 🚂 Treinando e salvando o modelo final com k = 19 ---\n",
      "✅ Modelo final treinado com sucesso!\n",
      "💾 Modelo salvo em: 'modelo_knn.joblib'\n",
      "💾 Colunas salvas em: 'colunas_modelo.json'\n",
      "\n",
      "--- 🚀 PROJETO CONCLUÍDO ---\n"
     ]
    }
   ],
   "source": [
    "def treinar_e_salvar_modelo_final(df: pd.DataFrame, k: int):\n",
    "    \"\"\"\n",
    "    Treina o modelo k-NN com o valor de 'k' otimizado e salva os artefatos.\n",
    "    \"\"\"\n",
    "    print(f\"\\n--- 🚂 Treinando e salvando o modelo final com k = {k} ---\")\n",
    "    if df is None or k == 0:\n",
    "        print(\"❌ Dados ou valor de 'k' inválidos. Abortando treinamento.\")\n",
    "        return\n",
    "\n",
    "    X = pd.get_dummies(df[COLUNAS_FEATURES], drop_first=True)\n",
    "    y = df[COLUNAS_ALVO]\n",
    "    \n",
    "    # Dica: O modelo final pode ser treinado com todos os dados, mas para manter\n",
    "    # a consistência do projeto, vamos usar o mesmo split.\n",
    "    X_train, _, y_train, _ = train_test_split(\n",
    "        X, y, test_size=TAMANHO_TESTE, random_state=ESTADO_ALEATORIO\n",
    "    )\n",
    "\n",
    "    modelo_final = KNeighborsRegressor(n_neighbors=k, n_jobs=-1)\n",
    "    modelo_final.fit(X_train, y_train)\n",
    "\n",
    "    joblib.dump(modelo_final, ARQUIVO_MODELO)\n",
    "    with open(ARQUIVO_COLUNAS, 'w') as f:\n",
    "        json.dump(X.columns.tolist(), f)\n",
    "\n",
    "    print(f\"✅ Modelo final treinado com sucesso!\")\n",
    "    print(f\"💾 Modelo salvo em: '{ARQUIVO_MODELO}'\")\n",
    "    print(f\"💾 Colunas salvas em: '{ARQUIVO_COLUNAS}'\")\n",
    "    print(\"\\n--- 🚀 PROJETO CONCLUÍDO ---\")\n",
    "\n",
    "# Executa o treinamento final com o melhor 'k' encontrado\n",
    "treinar_e_salvar_modelo_final(dados_limpos_ceara, melhor_k)"
   ]
  },
  {
   "cell_type": "markdown",
   "id": "186e4089",
   "metadata": {},
   "source": [
    "Depois de descobrir o melhor valor de `k`, estamos prontos para a etapa final.\n",
    "1.  **Treinamento**: Nós treinamos o modelo `KNeighborsRegressor` uma última vez, usando o `k` otimizado e nosso conjunto de dados limpos.\n",
    "2.  **Salvamento**: Ao final, geramos dois arquivos cruciais:\n",
    "    - `modelo_knn.joblib`: Este é o nosso **modelo treinado**, como se fosse o \"cérebro\" do nosso sistema, pronto para fazer novas previsões.\n",
    "    - `colunas_modelo.json`: Este é o **\"manual de instruções\"** do modelo. Ele guarda a lista exata de colunas (e a ordem delas) que o modelo precisa receber para funcionar corretamente.\n",
    "\n",
    "Com esses dois arquivos, podemos facilmente carregar nosso modelo em outra aplicação (como um site ou um dashboard) para prever as notas de novos alunos sem precisar rodar todo o processo de limpeza e treinamento novamente."
   ]
  },
  {
   "cell_type": "markdown",
   "id": "c2e2da60",
   "metadata": {},
   "source": [
    "## 🚀 Conclusão  \n",
    "Este projeto transforma dados brutos em inteligência acionável. Seguindo estes passos, construímos um sistema que aprendeu a encontrar padrões no perfil dos estudantes e, com base neles, fazer previsões sobre seu desempenho no ENEM. O uso do k-NN mostra como conceitos de \"similaridade\" e \"vizinhança\" podem ser ferramentas poderosas no mundo do Machine Learning."
   ]
  }
 ],
 "metadata": {
  "kernelspec": {
   "display_name": "base",
   "language": "python",
   "name": "python3"
  },
  "language_info": {
   "codemirror_mode": {
    "name": "ipython",
    "version": 3
   },
   "file_extension": ".py",
   "mimetype": "text/x-python",
   "name": "python",
   "nbconvert_exporter": "python",
   "pygments_lexer": "ipython3",
   "version": "3.12.7"
  }
 },
 "nbformat": 4,
 "nbformat_minor": 5
}
